{
 "cells": [
  {
   "cell_type": "code",
   "execution_count": 1,
   "id": "731ad4a2",
   "metadata": {},
   "outputs": [],
   "source": [
    "import os\n",
    "import s3fs\n",
    "import polars as pl \n",
    "import pandas as pd\n",
    "from dotenv import load_dotenv"
   ]
  },
  {
   "cell_type": "code",
   "execution_count": 4,
   "id": "0ae53471",
   "metadata": {},
   "outputs": [],
   "source": [
    "load_dotenv(override=True)\n",
    "\n",
    "aws_access_key = os.getenv(\"AWS_ACCESS_KEY_ID\")\n",
    "aws_secret_access_key = os.getenv(\"AWS_SECRET_ACCESS_KEY\")\n",
    "aws_region = os.getenv(\"AWS_REGION\")\n",
    "\n",
    "fs = s3fs.S3FileSystem(\n",
    "    key=aws_access_key, secret=aws_secret_access_key, client_kwargs={\"region_name\": aws_region})\n"
   ]
  },
  {
   "cell_type": "code",
   "execution_count": 18,
   "id": "3d437e58",
   "metadata": {},
   "outputs": [
    {
     "data": {
      "text/html": [
       "<div><style>\n",
       ".dataframe > thead > tr,\n",
       ".dataframe > tbody > tr {\n",
       "  text-align: right;\n",
       "  white-space: pre-wrap;\n",
       "}\n",
       "</style>\n",
       "<small>shape: (2, 7)</small><table border=\"1\" class=\"dataframe\"><thead><tr><th>id</th><th>name</th><th>lat</th><th>long</th><th>dock_count</th><th>city</th><th>installation_date</th></tr><tr><td>i64</td><td>str</td><td>str</td><td>str</td><td>i64</td><td>str</td><td>date</td></tr></thead><tbody><tr><td>2</td><td>&quot;San Jose Diridon Caltrain Stat…</td><td>&quot;37.329732&quot;</td><td>&quot;-121.90178200000001&quot;</td><td>27</td><td>&quot;San Jose&quot;</td><td>2013-06-08</td></tr><tr><td>3</td><td>&quot;San Jose Civic Center&quot;</td><td>&quot;37.330698&quot;</td><td>&quot;-121.888979&quot;</td><td>15</td><td>&quot;San Jose&quot;</td><td>2013-05-08</td></tr></tbody></table></div>"
      ],
      "text/plain": [
       "shape: (2, 7)\n",
       "┌─────┬──────────────────┬───────────┬──────────────────┬────────────┬──────────┬──────────────────┐\n",
       "│ id  ┆ name             ┆ lat       ┆ long             ┆ dock_count ┆ city     ┆ installation_dat │\n",
       "│ --- ┆ ---              ┆ ---       ┆ ---              ┆ ---        ┆ ---      ┆ e                │\n",
       "│ i64 ┆ str              ┆ str       ┆ str              ┆ i64        ┆ str      ┆ ---              │\n",
       "│     ┆                  ┆           ┆                  ┆            ┆          ┆ date             │\n",
       "╞═════╪══════════════════╪═══════════╪══════════════════╪════════════╪══════════╪══════════════════╡\n",
       "│ 2   ┆ San Jose Diridon ┆ 37.329732 ┆ -121.90178200000 ┆ 27         ┆ San Jose ┆ 2013-06-08       │\n",
       "│     ┆ Caltrain Stat…   ┆           ┆ 001              ┆            ┆          ┆                  │\n",
       "│ 3   ┆ San Jose Civic   ┆ 37.330698 ┆ -121.888979      ┆ 15         ┆ San Jose ┆ 2013-05-08       │\n",
       "│     ┆ Center           ┆           ┆                  ┆            ┆          ┆                  │\n",
       "└─────┴──────────────────┴───────────┴──────────────────┴────────────┴──────────┴──────────────────┘"
      ]
     },
     "execution_count": 18,
     "metadata": {},
     "output_type": "execute_result"
    }
   ],
   "source": [
    "csv_path = \"dataeng-warmup/data_raw/station.csv\"\n",
    "\n",
    "# with fs.open(csv_path, \"rb\") as f:\n",
    "#     df = pl.scan_csv(f)\n",
    "\n",
    "\n",
    "    \n",
    "schema = {\n",
    "    'id': pl.Int64,\n",
    "    'name': pl.String,\n",
    "    'lat': pl.String,\n",
    "    'long': pl.String,\n",
    "    'dock_count': pl.Int64,\n",
    "    'city': pl.String,\n",
    "    'installation_date': pl.String\n",
    "} \n",
    "\n",
    "with fs.open(csv_path, \"rb\") as f:\n",
    "    df = pl.scan_csv(f, schema= schema)\n",
    "\n",
    "df = df.with_columns([\n",
    "    pl.col(\"installation_date\").str.strptime(pl.Date, \"%d/%m/%Y\")])\n",
    "\n",
    "df.head(2).collect()"
   ]
  },
  {
   "cell_type": "code",
   "execution_count": 6,
   "id": "19e7fd64",
   "metadata": {},
   "outputs": [
    {
     "data": {
      "text/html": [
       "<div><style>\n",
       ".dataframe > thead > tr,\n",
       ".dataframe > tbody > tr {\n",
       "  text-align: right;\n",
       "  white-space: pre-wrap;\n",
       "}\n",
       "</style>\n",
       "<small>shape: (2, 7)</small><table border=\"1\" class=\"dataframe\"><thead><tr><th>id</th><th>name</th><th>lat</th><th>long</th><th>dock_count</th><th>city</th><th>installation_date</th></tr><tr><td>i64</td><td>str</td><td>f64</td><td>f64</td><td>i64</td><td>str</td><td>str</td></tr></thead><tbody><tr><td>2</td><td>&quot;San Jose Diridon Caltrain Stat…</td><td>37.329732</td><td>-121.901782</td><td>27</td><td>&quot;San Jose&quot;</td><td>&quot;8/6/2013&quot;</td></tr><tr><td>3</td><td>&quot;San Jose Civic Center&quot;</td><td>37.330698</td><td>-121.888979</td><td>15</td><td>&quot;San Jose&quot;</td><td>&quot;8/5/2013&quot;</td></tr></tbody></table></div>"
      ],
      "text/plain": [
       "shape: (2, 7)\n",
       "┌─────┬──────────────────┬───────────┬─────────────┬────────────┬──────────┬───────────────────┐\n",
       "│ id  ┆ name             ┆ lat       ┆ long        ┆ dock_count ┆ city     ┆ installation_date │\n",
       "│ --- ┆ ---              ┆ ---       ┆ ---         ┆ ---        ┆ ---      ┆ ---               │\n",
       "│ i64 ┆ str              ┆ f64       ┆ f64         ┆ i64        ┆ str      ┆ str               │\n",
       "╞═════╪══════════════════╪═══════════╪═════════════╪════════════╪══════════╪═══════════════════╡\n",
       "│ 2   ┆ San Jose Diridon ┆ 37.329732 ┆ -121.901782 ┆ 27         ┆ San Jose ┆ 8/6/2013          │\n",
       "│     ┆ Caltrain Stat…   ┆           ┆             ┆            ┆          ┆                   │\n",
       "│ 3   ┆ San Jose Civic   ┆ 37.330698 ┆ -121.888979 ┆ 15         ┆ San Jose ┆ 8/5/2013          │\n",
       "│     ┆ Center           ┆           ┆             ┆            ┆          ┆                   │\n",
       "└─────┴──────────────────┴───────────┴─────────────┴────────────┴──────────┴───────────────────┘"
      ]
     },
     "execution_count": 6,
     "metadata": {},
     "output_type": "execute_result"
    }
   ],
   "source": [
    "csv_path = \"dataeng-warmup/data_raw/station.csv\"\n",
    "\n",
    "with fs.open(csv_path, \"rb\") as f:\n",
    "    df = pl.read_csv(f)\n",
    "\n",
    "    \n",
    "df.head(2)"
   ]
  },
  {
   "cell_type": "code",
   "execution_count": 7,
   "id": "9c5b355b",
   "metadata": {},
   "outputs": [
    {
     "data": {
      "text/html": [
       "<div>\n",
       "<style scoped>\n",
       "    .dataframe tbody tr th:only-of-type {\n",
       "        vertical-align: middle;\n",
       "    }\n",
       "\n",
       "    .dataframe tbody tr th {\n",
       "        vertical-align: top;\n",
       "    }\n",
       "\n",
       "    .dataframe thead th {\n",
       "        text-align: right;\n",
       "    }\n",
       "</style>\n",
       "<table border=\"1\" class=\"dataframe\">\n",
       "  <thead>\n",
       "    <tr style=\"text-align: right;\">\n",
       "      <th></th>\n",
       "      <th>id</th>\n",
       "      <th>name</th>\n",
       "      <th>lat</th>\n",
       "      <th>long</th>\n",
       "      <th>dock_count</th>\n",
       "      <th>city</th>\n",
       "      <th>installation_date</th>\n",
       "    </tr>\n",
       "  </thead>\n",
       "  <tbody>\n",
       "    <tr>\n",
       "      <th>0</th>\n",
       "      <td>2</td>\n",
       "      <td>San Jose Diridon Caltrain Station</td>\n",
       "      <td>37.329732</td>\n",
       "      <td>-121.901782</td>\n",
       "      <td>27</td>\n",
       "      <td>San Jose</td>\n",
       "      <td>8/6/2013</td>\n",
       "    </tr>\n",
       "    <tr>\n",
       "      <th>1</th>\n",
       "      <td>3</td>\n",
       "      <td>San Jose Civic Center</td>\n",
       "      <td>37.330698</td>\n",
       "      <td>-121.888979</td>\n",
       "      <td>15</td>\n",
       "      <td>San Jose</td>\n",
       "      <td>8/5/2013</td>\n",
       "    </tr>\n",
       "  </tbody>\n",
       "</table>\n",
       "</div>"
      ],
      "text/plain": [
       "   id                               name        lat        long  dock_count  \\\n",
       "0   2  San Jose Diridon Caltrain Station  37.329732 -121.901782          27   \n",
       "1   3              San Jose Civic Center  37.330698 -121.888979          15   \n",
       "\n",
       "       city installation_date  \n",
       "0  San Jose          8/6/2013  \n",
       "1  San Jose          8/5/2013  "
      ]
     },
     "execution_count": 7,
     "metadata": {},
     "output_type": "execute_result"
    }
   ],
   "source": [
    "csv_path = \"dataeng-warmup/data_raw/station.csv\"\n",
    "\n",
    "with fs.open(csv_path, \"rb\") as f:\n",
    "    df = pd.read_csv(f)\n",
    "\n",
    "df.head(2)"
   ]
  },
  {
   "cell_type": "markdown",
   "id": "556f3794",
   "metadata": {},
   "source": [
    "station"
   ]
  },
  {
   "cell_type": "code",
   "execution_count": 22,
   "id": "bca71f87",
   "metadata": {},
   "outputs": [],
   "source": [
    "insper_username = \"antoniovfa\"\n",
    "bucket_name = \"dataeng-warmup\"\n",
    "parquet_path = f\"{bucket_name}/data_processed/{insper_username}/station.parquet\"\n",
    "\n",
    "schema = {\n",
    "    'id': pl.Int64,\n",
    "    'name': pl.String,\n",
    "    'lat': pl.String,\n",
    "    'long': pl.String,\n",
    "    'dock_count': pl.Int64,\n",
    "    'city': pl.String,\n",
    "    'installation_date': pl.String\n",
    "} \n",
    "\n",
    "csv_path = \"dataeng-warmup/data_raw/station.csv\"\n",
    "\n",
    "with fs.open(csv_path, mode= \"rb\") as f:\n",
    "    df = (pl.scan_csv(f, schema=schema)\n",
    "          .with_columns([\n",
    "              pl.col(\"installation_date\").str.strptime(pl.Date, \"%m/%d/%Y\")\n",
    "          ]))\n",
    "\n",
    "\n",
    "with fs.open(parquet_path, mode=\"wb\") as f:\n",
    "    df.collect().write_parquet(f)\n"
   ]
  }
 ],
 "metadata": {
  "kernelspec": {
   "display_name": "Python 3",
   "language": "python",
   "name": "python3"
  },
  "language_info": {
   "codemirror_mode": {
    "name": "ipython",
    "version": 3
   },
   "file_extension": ".py",
   "mimetype": "text/x-python",
   "name": "python",
   "nbconvert_exporter": "python",
   "pygments_lexer": "ipython3",
   "version": "3.13.5"
  }
 },
 "nbformat": 4,
 "nbformat_minor": 5
}
